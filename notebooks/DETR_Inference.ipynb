{
 "cells": [
  {
   "cell_type": "markdown",
   "metadata": {},
   "source": [
    "<img align=\"right\" src=\"../img/auvisus.svg\" width=\"100\" >\n"
   ]
  },
  {
   "cell_type": "markdown",
   "metadata": {},
   "source": [
    "# DEtection TRansformer Network"
   ]
  },
  {
   "cell_type": "markdown",
   "metadata": {},
   "source": [
    "---"
   ]
  },
  {
   "cell_type": "markdown",
   "metadata": {},
   "source": [
    "## 1. Import Modules"
   ]
  },
  {
   "cell_type": "code",
   "execution_count": null,
   "metadata": {},
   "outputs": [],
   "source": [
    "%load_ext autoreload\n",
    "%autoreload 2\n",
    "\n",
    "import os\n",
    "import colorsys\n",
    "import random\n",
    "import pickle\n",
    "\n",
    "import numpy as np\n",
    "from PIL import Image\n",
    "\n",
    "import tensorflow as tf\n",
    "from tensorflow.keras.preprocessing.image import img_to_array, load_img\n",
    "\n",
    "from matplotlib import patches\n",
    "import matplotlib.pyplot as plt\n",
    "\n",
    "from detr_models.detr.model import DETR\n",
    "from detr_models.detr.config import DefaultDETRConfig\n",
    "from detr_models.backbone.backbone import Backbone\n",
    "from detr_models.detr.utils import create_positional_encodings, get_image_information\n",
    "from detr_models.data_feeder.coco_feeder import COCOFeeder"
   ]
  },
  {
   "cell_type": "code",
   "execution_count": null,
   "metadata": {},
   "outputs": [],
   "source": [
    "def add_mask_to_image(image, mask, color, alpha=0.5):\n",
    "    for c in range(3):\n",
    "        image[:, :, c] = np.where(\n",
    "            mask == 1,\n",
    "            image[:, :, c] * (1 - alpha) + alpha * color[c] * 255,\n",
    "            image[:, :, c],\n",
    "        )\n",
    "    return image\n",
    "\n",
    "def apply_bbox(ax, bbox, color):\n",
    "    x1, y1, w, h = bbox\n",
    "    p = patches.Rectangle(\n",
    "        (x1, y1),\n",
    "        w,\n",
    "        h,\n",
    "        linewidth=2,\n",
    "        alpha=0.7,\n",
    "        linestyle=\"dashed\",\n",
    "        edgecolor=color,\n",
    "        facecolor=\"none\",\n",
    "    )\n",
    "\n",
    "    ax.add_patch(p)\n"
   ]
  },
  {
   "cell_type": "markdown",
   "metadata": {},
   "source": [
    "---"
   ]
  },
  {
   "cell_type": "markdown",
   "metadata": {},
   "source": [
    "## 2. Specify required paths"
   ]
  },
  {
   "cell_type": "code",
   "execution_count": null,
   "metadata": {},
   "outputs": [],
   "source": [
    "# Specify model path\n",
    "path = input(prompt='Please specify the storage path:\\n')"
   ]
  },
  {
   "cell_type": "markdown",
   "metadata": {},
   "source": [
    "---"
   ]
  },
  {
   "cell_type": "markdown",
   "metadata": {},
   "source": [
    "\n",
    "## 3. Load Model"
   ]
  },
  {
   "cell_type": "code",
   "execution_count": null,
   "metadata": {
    "scrolled": true
   },
   "outputs": [],
   "source": [
    "model = tf.keras.models.load_model(os.path.join(path, \"detr_model\"))\n",
    "model.summary()"
   ]
  },
  {
   "cell_type": "markdown",
   "metadata": {},
   "source": [
    "---"
   ]
  },
  {
   "cell_type": "markdown",
   "metadata": {},
   "source": [
    "## 3. Plot Training Loss"
   ]
  },
  {
   "cell_type": "code",
   "execution_count": null,
   "metadata": {},
   "outputs": [],
   "source": [
    "with open(os.path.join(path, \"detr_loss.txt\"),'rb') as detr_loss:\n",
    "    training_loss = pickle.load(detr_loss)\n",
    "    training_loss = np.array(training_loss)\n",
    "\n",
    "detr_loss = training_loss[:,0]\n",
    "score_loss  = training_loss[:,1]\n",
    "bbox_loss = training_loss[:,2]"
   ]
  },
  {
   "cell_type": "code",
   "execution_count": null,
   "metadata": {},
   "outputs": [],
   "source": [
    "fig, ax = plt.subplots(figsize=(10, 5))\n",
    "\n",
    "ax.set_title(\"Training Loss DETR - Epochs {}\".format(len(detr_loss)))\n",
    "ax.plot(detr_loss, label=\"Total DETR Loss\")\n",
    "ax.plot(score_loss, label=\"Class Loss\")\n",
    "ax.plot(bbox_loss, label=\"Bounding Box Loss\")\n",
    "\n",
    "ax.legend()\n",
    "plt.show()"
   ]
  },
  {
   "cell_type": "markdown",
   "metadata": {},
   "source": [
    "---"
   ]
  },
  {
   "cell_type": "markdown",
   "metadata": {},
   "source": [
    "## 4. Load Data"
   ]
  },
  {
   "cell_type": "code",
   "execution_count": null,
   "metadata": {},
   "outputs": [],
   "source": [
    "# Specify storage path\n",
    "# Points to /tests/data by default, but you should include your own data path to verify the data feeder\n",
    "storage_path = \"../tests/data\"\n",
    "\n",
    "# Specify batch size\n",
    "batch_size = 1\n",
    "\n",
    "\n",
    "# Specify Whether Model contains Segmentation Head\n",
    "train_masks = True"
   ]
  },
  {
   "cell_type": "code",
   "execution_count": null,
   "metadata": {},
   "outputs": [],
   "source": [
    "config = DefaultDETRConfig()\n",
    "\n",
    "training_config = {\n",
    "        \"storage_path\": storage_path,\n",
    "        \"batch_size\": batch_size,\n",
    "        \"train_masks\": train_masks,\n",
    "    }"
   ]
  },
  {
   "cell_type": "code",
   "execution_count": null,
   "metadata": {},
   "outputs": [],
   "source": [
    "data_feeder = COCOFeeder(\n",
    "        storage_path=training_config[\"storage_path\"],\n",
    "        batch_size=training_config[\"batch_size\"],\n",
    "        num_queries=config.num_queries,\n",
    "        num_classes=config.num_classes,\n",
    "        image_width=config.image_width,\n",
    "        image_height=config.image_height,\n",
    "    )"
   ]
  },
  {
   "cell_type": "code",
   "execution_count": null,
   "metadata": {},
   "outputs": [],
   "source": [
    "input_data = next(data_feeder(False))\n",
    "\n",
    "batch_images = input_data[0]\n",
    "batch_cls = input_data[1]\n",
    "batch_bboxs = input_data[2]\n",
    "obj_indices = input_data[3]\n",
    "batch_masks = input_data[4]\n",
    "\n",
    "print(\"Batch Images: {}\".format(batch_images.shape))\n",
    "print(\"Batch Target Class Labels: {}\".format(batch_cls.shape))\n",
    "print(\"Batch Target Bounding Boxes: {}\".format(batch_bboxs.shape))\n",
    "print(\"Batch Target Masks: {}\".format(batch_masks.shape))"
   ]
  },
  {
   "cell_type": "code",
   "execution_count": null,
   "metadata": {},
   "outputs": [],
   "source": [
    "fm_shape=model.get_layer(\"Backbone\").output[-1].shape[1::]\n",
    "positional_encodings = create_positional_encodings(fm_shape, config.dim_transformer//2, batch_size=1)\n",
    "\n",
    "print(\"Positional Encodings Shape: {}\".format(positional_encodings.shape))\n"
   ]
  },
  {
   "cell_type": "code",
   "execution_count": null,
   "metadata": {},
   "outputs": [],
   "source": [
    "for input in model.inputs:\n",
    "    print(\"Expected Input: {}\".format(input))"
   ]
  },
  {
   "cell_type": "markdown",
   "metadata": {},
   "source": [
    "---"
   ]
  },
  {
   "cell_type": "markdown",
   "metadata": {},
   "source": [
    "## 5. Inference"
   ]
  },
  {
   "cell_type": "code",
   "execution_count": null,
   "metadata": {},
   "outputs": [],
   "source": [
    "%%time\n",
    "\n",
    "if training_config[\"train_masks\"]:\n",
    "    detr_scores, detr_bbox, detr_masks = model([batch_images, positional_encodings], training=False)\n",
    "else:\n",
    "    detr_scores, detr_bbox = model([batch_images, positional_encodings], training=False)\n",
    "\n",
    "print(\"Model Scores Shape: {}\".format(detr_scores.shape))\n",
    "print(\"Model Bounding Boxes Shape: {}\".format(detr_bbox.shape))"
   ]
  },
  {
   "cell_type": "markdown",
   "metadata": {},
   "source": [
    "---"
   ]
  },
  {
   "cell_type": "markdown",
   "metadata": {},
   "source": [
    "## 6. Plott Results"
   ]
  },
  {
   "cell_type": "code",
   "execution_count": null,
   "metadata": {},
   "outputs": [],
   "source": [
    "scores = detr_scores[0].numpy()\n",
    "bboxs = detr_bbox[0].numpy()\n",
    "image = batch_images[0].numpy()"
   ]
  },
  {
   "cell_type": "code",
   "execution_count": null,
   "metadata": {},
   "outputs": [],
   "source": [
    "def rescale_bbox(bbox, height, width):\n",
    "    x1, y1, w, h = bbox\n",
    "    \n",
    "    x1 = x1 * width\n",
    "    y1 = y1 * height\n",
    "    w = w * width\n",
    "    h = h * height\n",
    "    return (x1,y1,w,h)"
   ]
  },
  {
   "cell_type": "code",
   "execution_count": null,
   "metadata": {},
   "outputs": [],
   "source": [
    "fig, ax = plt.subplots(figsize=(10, 5))\n",
    "color = (1.0, 0.0, 0.0)\n",
    "\n",
    "height, width = image.shape[:2]\n",
    "\n",
    "for idx, score in enumerate(scores):\n",
    "    \n",
    "    if np.argmax(score) != 4:\n",
    "        cls = np.argmax(score)\n",
    "        conf = score[cls]\n",
    "        print(\"Max Score: {} with Confidence {:.2f}\".format(cls, conf*100))\n",
    "        \n",
    "        bbox = bboxs[idx, :]\n",
    "        bbox = rescale_bbox(bbox, height, width)\n",
    "\n",
    "        print(\"Bounding Box Coordinates: {}\".format(bbox))\n",
    "        \n",
    "        apply_bbox(ax, bbox, color)\n",
    "\n",
    "        \n",
    "for bbox in batch_bboxs[0]:\n",
    "    bbox = bbox.numpy()\n",
    "    if (bbox == config.num_classes + 1).all():\n",
    "        continue\n",
    "    bbox = rescale_bbox(bbox, height, width)\n",
    "    #apply_bbox(ax, bbox, color)\n",
    "    \n",
    "image = image.astype(np.uint8)\n",
    "ax.imshow(image)\n",
    "plt.show()"
   ]
  },
  {
   "cell_type": "markdown",
   "metadata": {},
   "source": [
    "*This Notebook was created by: [auvisus GmbH](https://www.auvisus.com/)*"
   ]
  }
 ],
 "metadata": {
  "kernelspec": {
   "display_name": "python3_venv",
   "language": "python",
   "name": "python3_venv"
  },
  "language_info": {
   "codemirror_mode": {
    "name": "ipython",
    "version": 3
   },
   "file_extension": ".py",
   "mimetype": "text/x-python",
   "name": "python",
   "nbconvert_exporter": "python",
   "pygments_lexer": "ipython3",
   "version": "3.7.3"
  }
 },
 "nbformat": 4,
 "nbformat_minor": 4
}
