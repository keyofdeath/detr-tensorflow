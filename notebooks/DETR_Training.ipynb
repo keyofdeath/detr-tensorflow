{
 "cells": [
  {
   "cell_type": "markdown",
   "metadata": {},
   "source": [
    "<img align=\"right\" src=\"../img/auvisus.svg\" width=\"100\" >\n"
   ]
  },
  {
   "cell_type": "markdown",
   "metadata": {},
   "source": [
    "# DEtection TRansformer Network"
   ]
  },
  {
   "cell_type": "markdown",
   "metadata": {},
   "source": [
    "---"
   ]
  },
  {
   "cell_type": "markdown",
   "metadata": {},
   "source": [
    "## 1. Import Modules"
   ]
  },
  {
   "cell_type": "code",
   "execution_count": null,
   "metadata": {},
   "outputs": [],
   "source": [
    "%load_ext autoreload\n",
    "%autoreload 2\n",
    "import os\n",
    "import tensorflow as tf\n",
    "\n",
    "\n",
    "from detr_models.detr.model import DETR\n",
    "from detr_models.detr.utils import get_image_information\n",
    "\n",
    "from detr_models.data_feeder.pvoc_feeder import PVOCFeeder\n",
    "from detr_models.data_feeder.coco_feeder import COCOFeeder\n",
    "from detr_models.data_feeder.uuid_iterator import UUIDIterator\n",
    "from detr_models.detr.config import DefaultDETRConfig\n",
    "from detr_models.backbone.backbone import Backbone\n",
    "\n",
    "\n"
   ]
  },
  {
   "cell_type": "markdown",
   "metadata": {},
   "source": [
    "---"
   ]
  },
  {
   "cell_type": "markdown",
   "metadata": {},
   "source": [
    "## 2. Initialize Model"
   ]
  },
  {
   "cell_type": "code",
   "execution_count": null,
   "metadata": {},
   "outputs": [],
   "source": [
    "# Specify storage path\n",
    "storage_path = input(prompt='Please specify the storage path:\\n')"
   ]
  },
  {
   "cell_type": "code",
   "execution_count": null,
   "metadata": {},
   "outputs": [],
   "source": [
    "# Additional Information used for initialization\n",
    "config = DefaultDETRConfig()\n",
    "\n",
    "input_shape, count_images = get_image_information(storage_path, config.data_type)\n",
    "\n",
    "backbone_config = {\n",
    "        \"input_shape\": input_shape,\n",
    "        \"include_top\": False,\n",
    "        \"weights\": \"imagenet\",\n",
    "    }\n",
    "\n",
    "# Init. model\n",
    "detr = DETR(\n",
    "        input_shape=input_shape,\n",
    "        num_queries=config.num_queries,\n",
    "        num_classes=config.num_classes,\n",
    "        num_heads=config.num_heads,\n",
    "        dim_transformer=config.dim_transformer,\n",
    "        dim_feedforward=config.dim_feedforward,\n",
    "        num_transformer_layer=config.num_transformer_layer,\n",
    "        backbone_name=config.backbone_name,\n",
    "        backbone_config=backbone_config,\n",
    "        train_backbone=False,\n",
    ")\n"
   ]
  },
  {
   "cell_type": "markdown",
   "metadata": {},
   "source": [
    "---"
   ]
  },
  {
   "cell_type": "markdown",
   "metadata": {},
   "source": [
    "## 3. Build Model"
   ]
  },
  {
   "cell_type": "code",
   "execution_count": null,
   "metadata": {
    "scrolled": true
   },
   "outputs": [],
   "source": [
    "# Build Model From Scratch and Without Segmentation Head\n",
    "detr.build_model()\n",
    "detr.model.summary()"
   ]
  },
  {
   "cell_type": "markdown",
   "metadata": {},
   "source": [
    "---"
   ]
  },
  {
   "cell_type": "markdown",
   "metadata": {},
   "source": [
    "## 4. Train Model"
   ]
  },
  {
   "cell_type": "markdown",
   "metadata": {},
   "source": [
    "### 4.1. Initialize Training Helper"
   ]
  },
  {
   "cell_type": "code",
   "execution_count": null,
   "metadata": {},
   "outputs": [],
   "source": [
    "# Init Data Feeder PVOC type\n",
    "pvoc_feeder = PVOCFeeder(\n",
    "    storage_path=storage_path,\n",
    "    num_queries=config.num_queries,\n",
    "    num_classes=config.num_classes,\n",
    "    batch_size=config.batch_size,\n",
    ")"
   ]
  },
  {
   "cell_type": "code",
   "execution_count": null,
   "metadata": {},
   "outputs": [],
   "source": [
    "# Init Data Feeder COCO type\n",
    "coco_feeder = COCOFeeder(\n",
    "    storage_path=storage_path,\n",
    "    num_queries=config.num_queries,\n",
    "    num_classes=config.num_classes,\n",
    "    batch_size=config.batch_size,\n",
    "    image_width=config.image_width,\n",
    "    image_height=config.image_height\n",
    ")"
   ]
  },
  {
   "cell_type": "code",
   "execution_count": null,
   "metadata": {},
   "outputs": [],
   "source": [
    "if config.data_type == \"PVOC\":\n",
    "    print(\"Use Input Data in PascalVOC format\")\n",
    "    data_feeder = pvoc_feeder\n",
    "else:\n",
    "    print(\"Use Input Data in COCO format\")\n",
    "    data_feeder = coco_feeder"
   ]
  },
  {
   "cell_type": "markdown",
   "metadata": {},
   "source": [
    "**You have to choose which DataFeeder type you gonna use for training**"
   ]
  },
  {
   "cell_type": "markdown",
   "metadata": {},
   "source": [
    "---"
   ]
  },
  {
   "cell_type": "markdown",
   "metadata": {},
   "source": [
    "### 4.2. Specify Training Configuration"
   ]
  },
  {
   "cell_type": "code",
   "execution_count": null,
   "metadata": {},
   "outputs": [],
   "source": [
    "# Init Optimizer\n",
    "optimizer = tf.keras.optimizers.Adam(config.learning_rate)\n",
    "epochs = 30\n",
    "output_dir = \"./saved_model\"\n",
    "\n",
    "# Specify the path to any pre-trained model if you want to use one\n",
    "use_pretrained = False\n",
    "\n",
    "training_config = {\n",
    "        \"epochs\" : epochs,\n",
    "        \"optimizer\" : optimizer,\n",
    "        \"count_images\" : count_images,\n",
    "        \"train_masks\": config.train_masks,\n",
    "        \"output_dir\" : output_dir,\n",
    "        \"batch_size\" : config.batch_size,\n",
    "        \"verbose\" : False\n",
    "    }"
   ]
  },
  {
   "cell_type": "markdown",
   "metadata": {},
   "source": [
    "### 4.3. Start Training"
   ]
  },
  {
   "cell_type": "code",
   "execution_count": null,
   "metadata": {},
   "outputs": [],
   "source": [
    "detr.train(\n",
    "    training_config=training_config,\n",
    "    optimizer=optimizer,\n",
    "    count_images=count_images,\n",
    "    data_feeder=data_feeder,\n",
    ")"
   ]
  },
  {
   "cell_type": "markdown",
   "metadata": {},
   "source": [
    "---"
   ]
  },
  {
   "cell_type": "markdown",
   "metadata": {},
   "source": [
    "*This Notebook was created by: [auvisus GmbH](https://www.auvisus.com/)*"
   ]
  }
 ],
 "metadata": {
  "kernelspec": {
   "display_name": "python3_venv",
   "language": "python",
   "name": "python3_venv"
  },
  "language_info": {
   "codemirror_mode": {
    "name": "ipython",
    "version": 3
   },
   "file_extension": ".py",
   "mimetype": "text/x-python",
   "name": "python",
   "nbconvert_exporter": "python",
   "pygments_lexer": "ipython3",
   "version": "3.7.3"
  }
 },
 "nbformat": 4,
 "nbformat_minor": 4
}
