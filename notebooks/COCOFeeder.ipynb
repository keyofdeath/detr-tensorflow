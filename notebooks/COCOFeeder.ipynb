{
 "cells": [
  {
   "cell_type": "markdown",
   "metadata": {},
   "source": [
    "<img align=\"right\" src=\"../img/auvisus.svg\" width=\"100\" >\n"
   ]
  },
  {
   "cell_type": "markdown",
   "metadata": {},
   "source": [
    "# 1. Import Modules"
   ]
  },
  {
   "cell_type": "code",
   "execution_count": null,
   "metadata": {},
   "outputs": [],
   "source": [
    "%load_ext autoreload\n",
    "%autoreload 2\n",
    "import colorsys\n",
    "import random\n",
    "\n",
    "import numpy as np\n",
    "\n",
    "\n",
    "import matplotlib.pyplot as plt\n",
    "from PIL import Image\n",
    "from matplotlib import patches\n",
    "\n",
    "from detr_models.detr.config import DefaultDETRConfig\n",
    "from detr_models.data_feeder.coco_feeder import COCOFeeder"
   ]
  },
  {
   "cell_type": "markdown",
   "metadata": {},
   "source": [
    "---"
   ]
  },
  {
   "cell_type": "markdown",
   "metadata": {},
   "source": [
    "# 2. Include Helper Functions for plotting"
   ]
  },
  {
   "cell_type": "code",
   "execution_count": null,
   "metadata": {},
   "outputs": [],
   "source": [
    "def add_mask_to_image(image, mask, color, alpha=0.5):\n",
    "    for c in range(3):\n",
    "        image[:, :, c] = np.where(\n",
    "            mask == 1,\n",
    "            image[:, :, c] * (1 - alpha) + alpha * color[c] * 255,\n",
    "            image[:, :, c],\n",
    "        )\n",
    "    return image\n",
    "\n",
    "def apply_bbox(ax, bbox, color):\n",
    "    x1, y1, w, h = bbox\n",
    "    p = patches.Rectangle(\n",
    "        (x1, y1),\n",
    "        w,\n",
    "        h,\n",
    "        linewidth=2,\n",
    "        alpha=0.7,\n",
    "        linestyle=\"dashed\",\n",
    "        edgecolor=color,\n",
    "        facecolor=\"none\",\n",
    "    )\n",
    "\n",
    "    ax.add_patch(p)\n"
   ]
  },
  {
   "cell_type": "markdown",
   "metadata": {},
   "source": [
    "---"
   ]
  },
  {
   "cell_type": "markdown",
   "metadata": {},
   "source": [
    "# 3. Specify Parameters and Combine to TrainingConfig (Required)"
   ]
  },
  {
   "cell_type": "code",
   "execution_count": null,
   "metadata": {},
   "outputs": [],
   "source": [
    "# Specify storage path\n",
    "# Points to /tests/data by default, but you should include your own data path to verify the data feeder\n",
    "storage_path = \"../tests/data\"\n",
    "\n",
    "# Specify batch size\n",
    "batch_size = 2"
   ]
  },
  {
   "cell_type": "code",
   "execution_count": null,
   "metadata": {},
   "outputs": [],
   "source": [
    "config = DefaultDETRConfig()\n",
    "\n",
    "training_config = {\n",
    "        \"storage_path\": storage_path,\n",
    "        \"batch_size\": batch_size,\n",
    "    }"
   ]
  },
  {
   "cell_type": "markdown",
   "metadata": {},
   "source": [
    "----"
   ]
  },
  {
   "cell_type": "markdown",
   "metadata": {},
   "source": [
    "# 4. Init COCOFeeder"
   ]
  },
  {
   "cell_type": "code",
   "execution_count": null,
   "metadata": {},
   "outputs": [],
   "source": [
    "data_feeder = COCOFeeder(\n",
    "        storage_path=training_config[\"storage_path\"],\n",
    "        batch_size=training_config[\"batch_size\"],\n",
    "        num_queries=config.num_queries,\n",
    "        num_classes=config.num_classes,\n",
    "        image_width=config.image_width,\n",
    "        image_height=config.image_height,\n",
    "    )"
   ]
  },
  {
   "cell_type": "markdown",
   "metadata": {},
   "source": [
    "---"
   ]
  },
  {
   "cell_type": "markdown",
   "metadata": {},
   "source": [
    "# 5. Verify Shapes"
   ]
  },
  {
   "cell_type": "code",
   "execution_count": null,
   "metadata": {},
   "outputs": [],
   "source": [
    "import os\n",
    "path = os.path.join(storage_path, \"images\")\n",
    "os.listdir(path)\n",
    "\n",
    "\n",
    "for img in os.listdir(path):\n",
    "    input_data = next(data_feeder(False))\n"
   ]
  },
  {
   "cell_type": "code",
   "execution_count": null,
   "metadata": {},
   "outputs": [],
   "source": [
    "input_data = next(data_feeder(False))\n",
    "\n",
    "batch_images = input_data[0]\n",
    "batch_cls = input_data[1]\n",
    "batch_bboxs = input_data[2]\n",
    "obj_indices = input_data[3]\n",
    "batch_masks = input_data[4]\n",
    "\n",
    "print(\"Batch Images: {}\".format(batch_images.shape))\n",
    "print(\"Batch Target Class Labels: {}\".format(batch_cls.shape))\n",
    "print(\"Batch Target Bounding Boxes: {}\".format(batch_bboxs.shape))\n",
    "print(\"Batch Target Masks: {}\".format(batch_masks.shape))"
   ]
  },
  {
   "cell_type": "markdown",
   "metadata": {},
   "source": [
    "---"
   ]
  },
  {
   "cell_type": "markdown",
   "metadata": {},
   "source": [
    "# 6. Plot Image and Targets"
   ]
  },
  {
   "cell_type": "code",
   "execution_count": null,
   "metadata": {},
   "outputs": [],
   "source": [
    "for idx in range(batch_size):\n",
    "    fig, ax = plt.subplots(figsize=(10, 5))\n",
    "\n",
    "    sample_image = batch_images[idx]\n",
    "    sample_masks = batch_masks[idx]\n",
    "    sample_bboxs = batch_bboxs[idx]\n",
    "\n",
    "    sample_image = sample_image.numpy().astype(np.uint8)\n",
    "\n",
    "    color = (1.0, 0.0, 0.0)\n",
    "\n",
    "    for mask in sample_masks:\n",
    "        mask = mask.numpy()\n",
    "        mask = mask.astype(np.uint8)\n",
    "        sample_image = add_mask_to_image(sample_image, mask, color)\n",
    "\n",
    "    for bbox in sample_bboxs:\n",
    "        bbox = bbox.numpy()\n",
    "        \n",
    "        if (bbox == config.num_classes + 1).all():\n",
    "            continue\n",
    "\n",
    "        apply_bbox(ax, bbox, color)\n",
    "\n",
    "\n",
    "    ax.imshow(sample_image)\n",
    "    plt.show()"
   ]
  },
  {
   "cell_type": "markdown",
   "metadata": {},
   "source": [
    "**Check for multiple pictures via `next(data_feeder(False))` in cell above**"
   ]
  },
  {
   "cell_type": "markdown",
   "metadata": {},
   "source": [
    "---"
   ]
  }
 ],
 "metadata": {
  "kernelspec": {
   "display_name": "python3_venv",
   "language": "python",
   "name": "python3_venv"
  },
  "language_info": {
   "codemirror_mode": {
    "name": "ipython",
    "version": 3
   },
   "file_extension": ".py",
   "mimetype": "text/x-python",
   "name": "python",
   "nbconvert_exporter": "python",
   "pygments_lexer": "ipython3",
   "version": "3.7.3"
  }
 },
 "nbformat": 4,
 "nbformat_minor": 4
}
